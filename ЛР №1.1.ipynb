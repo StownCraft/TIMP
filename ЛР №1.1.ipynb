{
 "cells": [
  {
   "cell_type": "code",
   "execution_count": 3,
   "metadata": {},
   "outputs": [
    {
     "name": "stdout",
     "output_type": "stream",
     "text": [
      "Клиент: Петров Тариф: Базовый Сумма: 4000000 Процентная ставка: 5.5 %\n",
      "Клиент: Иванов Тариф: Не базовый Сумма: 50000 Процентная ставка: 7.5 %\n"
     ]
    }
   ],
   "source": [
    "from datetime import datetime, date\n",
    "\n",
    "class Client():\n",
    "    def __init__(self, id=1,  last_name = \"Петров\", first_name = \"Петр\", patronymic = \"Петрович\", birth_date = date(1990, 1, 1), money = 4000000):\n",
    "        self.id = id\n",
    "        self.last_name = last_name\n",
    "        self.first_name = first_name\n",
    "        self.patronymic = patronymic\n",
    "        self.birth_date = birth_date\n",
    "        self.money = money\n",
    "\n",
    "class Tarif():\n",
    "    def __init__(self, name=None,  percent=2000):\n",
    "        self.name = name\n",
    "        self.percent = percent\n",
    "     \n",
    "Tarif_1 = Tarif('Базовый', 5.5)\n",
    "Tarif_2 = Tarif('Не базовый', 7.5)\n",
    "Tarifs = [Tarif_1, Tarif_2]\n",
    "\n",
    "Client_1 = Client()\n",
    "Client_2 = Client(2, \"Иванов\", \"Иван\", \"Иванович\", date(1990, 7, 5), 50000) \n",
    "Clients = [Client_1, Client_2]\n",
    "\n",
    "class association():\n",
    "    def __init__(self, client_id = 0,  tarif_id = 0):\n",
    "        self.client_id = client_id\n",
    "        self.tarif_id = tarif_id\n",
    "\n",
    "Check_1 = association()\n",
    "Check_2 = association(1, 1)\n",
    "Checks = [Check_1, Check_2]\n",
    "\n",
    "for i in range(len(Checks)):\n",
    "    print(\"Клиент:\", Clients[Checks[i].client_id].last_name, \"Тариф:\", Tarifs[Checks[i].tarif_id].name, \"Сумма:\", Clients[Checks[i].client_id].money ,\"Процентная ставка:\", Tarifs[Checks[i].tarif_id].percent, \"%\")"
   ]
  }
 ],
 "metadata": {
  "kernelspec": {
   "display_name": "Python 3",
   "language": "python",
   "name": "python3"
  },
  "language_info": {
   "codemirror_mode": {
    "name": "ipython",
    "version": 3
   },
   "file_extension": ".py",
   "mimetype": "text/x-python",
   "name": "python",
   "nbconvert_exporter": "python",
   "pygments_lexer": "ipython3",
   "version": "3.7.0"
  }
 },
 "nbformat": 4,
 "nbformat_minor": 2
}
