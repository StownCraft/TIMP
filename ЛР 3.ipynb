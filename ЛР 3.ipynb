{
 "cells": [
  {
   "cell_type": "code",
   "execution_count": 17,
   "metadata": {},
   "outputs": [
    {
     "name": "stdout",
     "output_type": "stream",
     "text": [
      "['Иван', 'Петр']\n"
     ]
    }
   ],
   "source": [
    "from datetime import datetime, date\n",
    "\n",
    "class Client():\n",
    "    def __init__(self, id=1,  last_name = \"Петров\", first_name = \"Петр\", patronymic = \"Петрович\", birth_date = date(1990, 1, 1), money = 4000000):\n",
    "        self.id = id\n",
    "        self.last_name = last_name\n",
    "        self.first_name = first_name\n",
    "        self.patronymic = patronymic\n",
    "        self.birth_date = birth_date\n",
    "        self.money = money\n",
    "\n",
    "Client_1 = Client()\n",
    "Client_2 = Client(2, \"Иванов\", \"Иван\", \"Иванович\", date(1990, 7, 5), 50000) \n",
    "Client_3 = Client(2, \"Семенов\", \"Семен\", \"Семенович\", date(1990, 7, 5), 50000) \n",
    "Client_4 = Client(2, \"Волков\", \"Анатолий\", \"Александрович\", date(1990, 7, 5), 50000) \n",
    "Client_5 = Client(2, \"Иванов\", \"Иван\", \"Иванович\", date(1990, 7, 5), 50000) \n",
    "Clients = [Client_1, Client_2, Client_3, Client_4, Client_5]\n",
    "\n",
    "def sort_client_by_name(clients_list):\n",
    "    data = sorted(clients_list, key=lambda d: d.first_name)\n",
    "    for i in range(len(data)):\n",
    "        data[i]=data[i].first_name\n",
    "    return data\n",
    "print(sort_client_by_name(Clients))\n"
   ]
  }
 ],
 "metadata": {
  "kernelspec": {
   "display_name": "Python 3",
   "language": "python",
   "name": "python3"
  },
  "language_info": {
   "codemirror_mode": {
    "name": "ipython",
    "version": 3
   },
   "file_extension": ".py",
   "mimetype": "text/x-python",
   "name": "python",
   "nbconvert_exporter": "python",
   "pygments_lexer": "ipython3",
   "version": "3.7.0"
  }
 },
 "nbformat": 4,
 "nbformat_minor": 2
}
