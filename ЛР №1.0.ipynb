{
 "cells": [
  {
   "cell_type": "code",
   "execution_count": 37,
   "metadata": {},
   "outputs": [
    {
     "name": "stdout",
     "output_type": "stream",
     "text": [
      "Клиент: Петров Тариф: Базовый Сумма: 4000000 Процентная ставка: 5.5 %\n",
      "Клиент: Иванов Тариф: Не базовый Сумма: 50000 Процентная ставка: 7.5 %\n"
     ]
    }
   ],
   "source": [
    "from datetime import datetime, date\n",
    "client_1 = {\n",
    "    'id': 1,  # Уникальный идентификатор \n",
    "    'last_name': u'Петров',  # Фамилия\n",
    "    'first_name': u'Петр',  # Имя\n",
    "    'Patronymic': u'Петрович'\n",
    "    'birth_date': date(1990, 1, 1),  # Дата рождения\n",
    "}\n",
    "\n",
    "client_2 = {\n",
    "    'id': 2,\n",
    "    'last_name': u'Иванов',\n",
    "    'first_name': u'Иван',\n",
    "    'Patronymic': u'Иванович'\n",
    "    'birth_date': date(1990, 7, 5),\n",
    "}\n",
    "\n",
    "clients = [client_1, client_2]\n",
    "\n",
    "tarif_1 = {\n",
    "    'id': 1,  # Уникальный идентификатор \n",
    "    'name': u'Базовый',  # Наименование \n",
    "    'percent': 5.5  # ставка\n",
    "}\n",
    "\n",
    "tarif_2 = {\n",
    "    'id': 2,  # Уникальный идентификатор \n",
    "    'name': u'Не базовый',  # Наименование \n",
    "    'percent': 7.5  # ставка\n",
    "}\n",
    "\n",
    "tarifs = [tarif_1, tarif_2]\n",
    "\n",
    "marks = {\n",
    "    tarif_1['id']: {\n",
    "        client_1['id']: 4000000\n",
    "    },\n",
    "   tarif_2['id']: {\n",
    "        client_2['id']: 50000\n",
    "    }\n",
    "}\n",
    "\n",
    "for i in marks:\n",
    "     for n in marks[i]:\n",
    "            print(\"Клиент:\", clients[n-1]['last_name'], \"Тариф:\", tarifs[i-1]['name'], \"Сумма:\", marks[i][n] ,\"Процентная ставка:\", tarifs[i-1]['percent'], \"%\")"
   ]
  },
  {
   "cell_type": "code",
   "execution_count": null,
   "metadata": {},
   "outputs": [],
   "source": []
  }
 ],
 "metadata": {
  "kernelspec": {
   "display_name": "Python 3",
   "language": "python",
   "name": "python3"
  },
  "language_info": {
   "codemirror_mode": {
    "name": "ipython",
    "version": 3
   },
   "file_extension": ".py",
   "mimetype": "text/x-python",
   "name": "python",
   "nbconvert_exporter": "python",
   "pygments_lexer": "ipython3",
   "version": "3.7.0"
  }
 },
 "nbformat": 4,
 "nbformat_minor": 2
}
