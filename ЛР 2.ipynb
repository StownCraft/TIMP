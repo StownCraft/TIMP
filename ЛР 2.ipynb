{
 "cells": [
  {
   "cell_type": "code",
   "execution_count": 36,
   "metadata": {},
   "outputs": [
    {
     "name": "stdout",
     "output_type": "stream",
     "text": [
      "None\n",
      "Иванов\n",
      "Иван\n"
     ]
    }
   ],
   "source": [
    "from datetime import datetime, date\n",
    "\n",
    "class Client():\n",
    "    def __init__(self, id=1,  last_name = \"Петров\", first_name = \"Петр\", patronymic = \"Петрович\", birth_date = date(1990, 1, 1), money = 4000000):\n",
    "        self.id = id\n",
    "        self.last_name = last_name\n",
    "        self.first_name = first_name\n",
    "        self.patronymic = patronymic\n",
    "        self.birth_date = birth_date\n",
    "        self.money = money\n",
    "\n",
    "Client_1 = Client()\n",
    "Client_2 = Client(2, \"Иванов\", \"Иван\", \"Иванович\", date(1990, 7, 5), 50000) \n",
    "Clients = [Client_1, Client_2]\n",
    "\n",
    "def search_client_by_name(first_name, clients_list):\n",
    "    for client in clients_list:\n",
    "        if client.first_name == first_name:\n",
    "            return client.last_name\n",
    "    return None\n",
    "\n",
    "def filtrate_clients_by_money(money, clients_list):\n",
    "    result = []\n",
    "    for client in clients_list:\n",
    "        if client.money == money:\n",
    "            result.append(client.first_name)\n",
    "    return result\n",
    "\n",
    "print(search_client_by_name(u'Толстой', Clients))\n",
    "print(search_client_by_name(u'Иван', Clients))\n",
    "\n",
    "fil = filtrate_clients_by_money(50000, Clients)\n",
    "for i in range(len(fil)):\n",
    "    print(fil[i])"
   ]
  },
  {
   "cell_type": "code",
   "execution_count": null,
   "metadata": {},
   "outputs": [],
   "source": []
  }
 ],
 "metadata": {
  "kernelspec": {
   "display_name": "Python 3",
   "language": "python",
   "name": "python3"
  },
  "language_info": {
   "codemirror_mode": {
    "name": "ipython",
    "version": 3
   },
   "file_extension": ".py",
   "mimetype": "text/x-python",
   "name": "python",
   "nbconvert_exporter": "python",
   "pygments_lexer": "ipython3",
   "version": "3.7.0"
  }
 },
 "nbformat": 4,
 "nbformat_minor": 2
}
